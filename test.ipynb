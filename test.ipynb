{
 "cells": [
  {
   "cell_type": "code",
   "id": "initial_id",
   "metadata": {
    "collapsed": true,
    "ExecuteTime": {
     "end_time": "2025-03-20T00:47:34.955449Z",
     "start_time": "2025-03-20T00:47:18.895837Z"
    }
   },
   "source": "from imports import *",
   "outputs": [],
   "execution_count": 1
  },
  {
   "metadata": {
    "ExecuteTime": {
     "end_time": "2025-03-20T06:25:14.511424Z",
     "start_time": "2025-03-20T06:25:13.100539Z"
    }
   },
   "cell_type": "code",
   "source": [
    "load_dotenv()\n",
    "os.environ['OPENAI_API_KEY'] = os.getenv('OPENAI_API_KEY', 'your-key-if-not-using-env')\n",
    "os.environ['HF_TOKEN'] = os.getenv('HF_TOKEN', 'your-key-if-not-using-env')\n",
    "openai_token = os.environ['OPENAI_API_KEY']\n",
    "\n",
    "hf_token = os.environ['HF_TOKEN']\n",
    "login(hf_token, add_to_git_credential=True)\n",
    "\n",
    "\n",
    "\n",
    "openai_ef = embedding_functions.OpenAIEmbeddingFunction(\n",
    "            api_key=openai_token,\n",
    "            model_name=\"text-embedding-3-large\"  # Choose your embedding model\n",
    "        )\n",
    "chroma_client = chromadb.PersistentClient(path=\"./chroma_db\")  # Use an in-memory or persistent database\n",
    "#self.collection = chroma_client.get_or_create_collection(name=\"openai_embeddings\", embedding_function=openai_ef)\n",
    "chroma_client.delete_collection(name=\"openai_embeddings\")\n",
    "collection = chroma_client.create_collection(name=\"openai_embeddings\", embedding_function=openai_ef)\n"
   ],
   "id": "d4b9617ce0741b67",
   "outputs": [
    {
     "name": "stderr",
     "output_type": "stream",
     "text": [
      "Note: Environment variable`HF_TOKEN` is set and is the current active token independently from the token you've just configured.\n"
     ]
    }
   ],
   "execution_count": 82
  },
  {
   "metadata": {
    "ExecuteTime": {
     "end_time": "2025-03-20T01:06:51.948475Z",
     "start_time": "2025-03-20T01:06:51.680758Z"
    }
   },
   "cell_type": "code",
   "source": "client = OpenAI()",
   "id": "ded78fd6dd21a808",
   "outputs": [],
   "execution_count": 19
  },
  {
   "metadata": {
    "ExecuteTime": {
     "end_time": "2025-03-20T01:06:55.241790Z",
     "start_time": "2025-03-20T01:06:53.942109Z"
    }
   },
   "cell_type": "code",
   "source": "data = pd.read_csv(\"youtube_titles.csv\")\n",
   "id": "51277d4cb35e76aa",
   "outputs": [],
   "execution_count": 20
  },
  {
   "metadata": {
    "ExecuteTime": {
     "end_time": "2025-03-20T01:06:57.553235Z",
     "start_time": "2025-03-20T01:06:57.534102Z"
    }
   },
   "cell_type": "code",
   "source": "train, test = train_test_split(data, test_size=0.2)",
   "id": "86ca1bf088ad2f17",
   "outputs": [],
   "execution_count": 21
  },
  {
   "metadata": {
    "ExecuteTime": {
     "end_time": "2025-03-20T03:53:48.617477Z",
     "start_time": "2025-03-20T01:06:58.923233Z"
    }
   },
   "cell_type": "code",
   "source": [
    "ids = [f\"doc_{i}\" for i in range(len(train))]\n",
    "documents = [train['title'].iloc[i] for i in range(len(train))]\n",
    "metadatas = [{\"category\" : train['category_1'].iloc[i],\"Vid_id\" : train['vid_id'].iloc[i]} for i in range(len(train))]\n",
    "vectors = [\n",
    "    client.embeddings.create(\n",
    "        input = train['title'].iloc[i],\n",
    "        model = \"text-embedding-3-large\",\n",
    "    ) for i in range(len(train))\n",
    "           ]"
   ],
   "id": "560fa743dfd70e2e",
   "outputs": [],
   "execution_count": 22
  },
  {
   "metadata": {
    "ExecuteTime": {
     "end_time": "2025-03-20T06:25:00.137661Z",
     "start_time": "2025-03-20T06:24:58.663847Z"
    }
   },
   "cell_type": "code",
   "source": "vector_values = [vector.data[0].embedding for vector in vectors]",
   "id": "52ddf858a7b08938",
   "outputs": [],
   "execution_count": 80
  },
  {
   "metadata": {
    "ExecuteTime": {
     "end_time": "2025-03-20T05:09:49.303685Z",
     "start_time": "2025-03-20T05:09:48.529608Z"
    }
   },
   "cell_type": "code",
   "source": [
    " data = {\n",
    "            \"ids\": ids,\n",
    "            \"documents\": documents,\n",
    "            \"metadata\": metadatas,\n",
    "            \"vectors\": vector_values  # Use the extracted embeddings\n",
    "        }\n"
   ],
   "id": "fd922166c4fb7614",
   "outputs": [],
   "execution_count": 27
  },
  {
   "metadata": {
    "ExecuteTime": {
     "end_time": "2025-03-20T05:12:04.387275Z",
     "start_time": "2025-03-20T05:09:57.376128Z"
    }
   },
   "cell_type": "code",
   "source": [
    "        with open(\"output.json\", \"w\") as f:\n",
    "            json.dump(data, f, indent=4)"
   ],
   "id": "94a400aae18f04ac",
   "outputs": [],
   "execution_count": 28
  },
  {
   "metadata": {
    "ExecuteTime": {
     "end_time": "2025-03-20T06:25:06.277164Z",
     "start_time": "2025-03-20T06:25:03.051824Z"
    }
   },
   "cell_type": "code",
   "source": "collection.add(ids = ids, documents = documents, metadatas = metadatas, embeddings = vector_values)",
   "id": "195a5733d592e4b9",
   "outputs": [
    {
     "ename": "KeyboardInterrupt",
     "evalue": "",
     "output_type": "error",
     "traceback": [
      "\u001B[1;31m---------------------------------------------------------------------------\u001B[0m",
      "\u001B[1;31mKeyboardInterrupt\u001B[0m                         Traceback (most recent call last)",
      "Cell \u001B[1;32mIn[81], line 1\u001B[0m\n\u001B[1;32m----> 1\u001B[0m collection\u001B[38;5;241m.\u001B[39madd(ids \u001B[38;5;241m=\u001B[39m ids, documents \u001B[38;5;241m=\u001B[39m documents, metadatas \u001B[38;5;241m=\u001B[39m metadatas, embeddings \u001B[38;5;241m=\u001B[39m vector_values)\n",
      "File \u001B[1;32m~\\anaconda3\\Lib\\site-packages\\chromadb\\api\\models\\Collection.py:82\u001B[0m, in \u001B[0;36mCollection.add\u001B[1;34m(self, ids, embeddings, metadatas, documents, images, uris)\u001B[0m\n\u001B[0;32m     47\u001B[0m \u001B[38;5;28;01mdef\u001B[39;00m \u001B[38;5;21madd\u001B[39m(\n\u001B[0;32m     48\u001B[0m     \u001B[38;5;28mself\u001B[39m,\n\u001B[0;32m     49\u001B[0m     ids: OneOrMany[ID],\n\u001B[1;32m   (...)\u001B[0m\n\u001B[0;32m     59\u001B[0m     uris: Optional[OneOrMany[URI]] \u001B[38;5;241m=\u001B[39m \u001B[38;5;28;01mNone\u001B[39;00m,\n\u001B[0;32m     60\u001B[0m ) \u001B[38;5;241m-\u001B[39m\u001B[38;5;241m>\u001B[39m \u001B[38;5;28;01mNone\u001B[39;00m:\n\u001B[0;32m     61\u001B[0m \u001B[38;5;250m    \u001B[39m\u001B[38;5;124;03m\"\"\"Add embeddings to the data store.\u001B[39;00m\n\u001B[0;32m     62\u001B[0m \u001B[38;5;124;03m    Args:\u001B[39;00m\n\u001B[0;32m     63\u001B[0m \u001B[38;5;124;03m        ids: The ids of the embeddings you wish to add\u001B[39;00m\n\u001B[1;32m   (...)\u001B[0m\n\u001B[0;32m     79\u001B[0m \n\u001B[0;32m     80\u001B[0m \u001B[38;5;124;03m    \"\"\"\u001B[39;00m\n\u001B[1;32m---> 82\u001B[0m     add_request \u001B[38;5;241m=\u001B[39m \u001B[38;5;28mself\u001B[39m\u001B[38;5;241m.\u001B[39m_validate_and_prepare_add_request(\n\u001B[0;32m     83\u001B[0m         ids\u001B[38;5;241m=\u001B[39mids,\n\u001B[0;32m     84\u001B[0m         embeddings\u001B[38;5;241m=\u001B[39membeddings,\n\u001B[0;32m     85\u001B[0m         metadatas\u001B[38;5;241m=\u001B[39mmetadatas,\n\u001B[0;32m     86\u001B[0m         documents\u001B[38;5;241m=\u001B[39mdocuments,\n\u001B[0;32m     87\u001B[0m         images\u001B[38;5;241m=\u001B[39mimages,\n\u001B[0;32m     88\u001B[0m         uris\u001B[38;5;241m=\u001B[39muris,\n\u001B[0;32m     89\u001B[0m     )\n\u001B[0;32m     91\u001B[0m     \u001B[38;5;28mself\u001B[39m\u001B[38;5;241m.\u001B[39m_client\u001B[38;5;241m.\u001B[39m_add(\n\u001B[0;32m     92\u001B[0m         collection_id\u001B[38;5;241m=\u001B[39m\u001B[38;5;28mself\u001B[39m\u001B[38;5;241m.\u001B[39mid,\n\u001B[0;32m     93\u001B[0m         ids\u001B[38;5;241m=\u001B[39madd_request[\u001B[38;5;124m\"\u001B[39m\u001B[38;5;124mids\u001B[39m\u001B[38;5;124m\"\u001B[39m],\n\u001B[1;32m   (...)\u001B[0m\n\u001B[0;32m     99\u001B[0m         database\u001B[38;5;241m=\u001B[39m\u001B[38;5;28mself\u001B[39m\u001B[38;5;241m.\u001B[39mdatabase,\n\u001B[0;32m    100\u001B[0m     )\n",
      "File \u001B[1;32m~\\anaconda3\\Lib\\site-packages\\chromadb\\api\\models\\CollectionCommon.py:90\u001B[0m, in \u001B[0;36mvalidation_context.<locals>.decorator.<locals>.wrapper\u001B[1;34m(self, *args, **kwargs)\u001B[0m\n\u001B[0;32m     87\u001B[0m \u001B[38;5;129m@functools\u001B[39m\u001B[38;5;241m.\u001B[39mwraps(func)\n\u001B[0;32m     88\u001B[0m \u001B[38;5;28;01mdef\u001B[39;00m \u001B[38;5;21mwrapper\u001B[39m(\u001B[38;5;28mself\u001B[39m: Any, \u001B[38;5;241m*\u001B[39margs: Any, \u001B[38;5;241m*\u001B[39m\u001B[38;5;241m*\u001B[39mkwargs: Any) \u001B[38;5;241m-\u001B[39m\u001B[38;5;241m>\u001B[39m T:\n\u001B[0;32m     89\u001B[0m     \u001B[38;5;28;01mtry\u001B[39;00m:\n\u001B[1;32m---> 90\u001B[0m         \u001B[38;5;28;01mreturn\u001B[39;00m func(\u001B[38;5;28mself\u001B[39m, \u001B[38;5;241m*\u001B[39margs, \u001B[38;5;241m*\u001B[39m\u001B[38;5;241m*\u001B[39mkwargs)\n\u001B[0;32m     91\u001B[0m     \u001B[38;5;28;01mexcept\u001B[39;00m \u001B[38;5;167;01mException\u001B[39;00m \u001B[38;5;28;01mas\u001B[39;00m e:\n\u001B[0;32m     92\u001B[0m         msg \u001B[38;5;241m=\u001B[39m \u001B[38;5;124mf\u001B[39m\u001B[38;5;124m\"\u001B[39m\u001B[38;5;132;01m{\u001B[39;00m\u001B[38;5;28mstr\u001B[39m(e)\u001B[38;5;132;01m}\u001B[39;00m\u001B[38;5;124m in \u001B[39m\u001B[38;5;132;01m{\u001B[39;00mname\u001B[38;5;132;01m}\u001B[39;00m\u001B[38;5;124m.\u001B[39m\u001B[38;5;124m\"\u001B[39m\n",
      "File \u001B[1;32m~\\anaconda3\\Lib\\site-packages\\chromadb\\api\\models\\CollectionCommon.py:197\u001B[0m, in \u001B[0;36mCollectionCommon._validate_and_prepare_add_request\u001B[1;34m(self, ids, embeddings, metadatas, documents, images, uris)\u001B[0m\n\u001B[0;32m    181\u001B[0m \u001B[38;5;129m@validation_context\u001B[39m(\u001B[38;5;124m\"\u001B[39m\u001B[38;5;124madd\u001B[39m\u001B[38;5;124m\"\u001B[39m)\n\u001B[0;32m    182\u001B[0m \u001B[38;5;28;01mdef\u001B[39;00m \u001B[38;5;21m_validate_and_prepare_add_request\u001B[39m(\n\u001B[0;32m    183\u001B[0m     \u001B[38;5;28mself\u001B[39m,\n\u001B[1;32m   (...)\u001B[0m\n\u001B[0;32m    195\u001B[0m ) \u001B[38;5;241m-\u001B[39m\u001B[38;5;241m>\u001B[39m AddRequest:\n\u001B[0;32m    196\u001B[0m     \u001B[38;5;66;03m# Unpack\u001B[39;00m\n\u001B[1;32m--> 197\u001B[0m     add_records \u001B[38;5;241m=\u001B[39m normalize_insert_record_set(\n\u001B[0;32m    198\u001B[0m         ids\u001B[38;5;241m=\u001B[39mids,\n\u001B[0;32m    199\u001B[0m         embeddings\u001B[38;5;241m=\u001B[39membeddings,\n\u001B[0;32m    200\u001B[0m         metadatas\u001B[38;5;241m=\u001B[39mmetadatas,\n\u001B[0;32m    201\u001B[0m         documents\u001B[38;5;241m=\u001B[39mdocuments,\n\u001B[0;32m    202\u001B[0m         images\u001B[38;5;241m=\u001B[39mimages,\n\u001B[0;32m    203\u001B[0m         uris\u001B[38;5;241m=\u001B[39muris,\n\u001B[0;32m    204\u001B[0m     )\n\u001B[0;32m    206\u001B[0m     \u001B[38;5;66;03m# Validate\u001B[39;00m\n\u001B[0;32m    207\u001B[0m     validate_insert_record_set(record_set\u001B[38;5;241m=\u001B[39madd_records)\n",
      "File \u001B[1;32m~\\anaconda3\\Lib\\site-packages\\chromadb\\api\\types.py:187\u001B[0m, in \u001B[0;36mnormalize_insert_record_set\u001B[1;34m(ids, embeddings, metadatas, documents, images, uris)\u001B[0m\n\u001B[0;32m    171\u001B[0m \u001B[38;5;28;01mdef\u001B[39;00m \u001B[38;5;21mnormalize_insert_record_set\u001B[39m(\n\u001B[0;32m    172\u001B[0m     ids: OneOrMany[ID],\n\u001B[0;32m    173\u001B[0m     embeddings: Optional[\n\u001B[1;32m   (...)\u001B[0m\n\u001B[0;32m    182\u001B[0m     uris: Optional[OneOrMany[URI]] \u001B[38;5;241m=\u001B[39m \u001B[38;5;28;01mNone\u001B[39;00m,\n\u001B[0;32m    183\u001B[0m ) \u001B[38;5;241m-\u001B[39m\u001B[38;5;241m>\u001B[39m InsertRecordSet:\n\u001B[0;32m    184\u001B[0m \u001B[38;5;250m    \u001B[39m\u001B[38;5;124;03m\"\"\"\u001B[39;00m\n\u001B[0;32m    185\u001B[0m \u001B[38;5;124;03m    Unpacks and normalizes the fields of an InsertRecordSet.\u001B[39;00m\n\u001B[0;32m    186\u001B[0m \u001B[38;5;124;03m    \"\"\"\u001B[39;00m\n\u001B[1;32m--> 187\u001B[0m     base_record_set \u001B[38;5;241m=\u001B[39m normalize_base_record_set(\n\u001B[0;32m    188\u001B[0m         embeddings\u001B[38;5;241m=\u001B[39membeddings, documents\u001B[38;5;241m=\u001B[39mdocuments, images\u001B[38;5;241m=\u001B[39mimages, uris\u001B[38;5;241m=\u001B[39muris\n\u001B[0;32m    189\u001B[0m     )\n\u001B[0;32m    191\u001B[0m     \u001B[38;5;28;01mreturn\u001B[39;00m InsertRecordSet(\n\u001B[0;32m    192\u001B[0m         ids\u001B[38;5;241m=\u001B[39mcast(IDs, maybe_cast_one_to_many(ids)),\n\u001B[0;32m    193\u001B[0m         metadatas\u001B[38;5;241m=\u001B[39mmaybe_cast_one_to_many(metadatas),\n\u001B[1;32m   (...)\u001B[0m\n\u001B[0;32m    197\u001B[0m         uris\u001B[38;5;241m=\u001B[39mbase_record_set[\u001B[38;5;124m\"\u001B[39m\u001B[38;5;124muris\u001B[39m\u001B[38;5;124m\"\u001B[39m],\n\u001B[0;32m    198\u001B[0m     )\n",
      "File \u001B[1;32m~\\anaconda3\\Lib\\site-packages\\chromadb\\api\\types.py:164\u001B[0m, in \u001B[0;36mnormalize_base_record_set\u001B[1;34m(embeddings, documents, images, uris)\u001B[0m\n\u001B[0;32m    153\u001B[0m \u001B[38;5;28;01mdef\u001B[39;00m \u001B[38;5;21mnormalize_base_record_set\u001B[39m(\n\u001B[0;32m    154\u001B[0m     embeddings: Optional[Union[OneOrMany[Embedding], OneOrMany[PyEmbedding]]] \u001B[38;5;241m=\u001B[39m \u001B[38;5;28;01mNone\u001B[39;00m,\n\u001B[0;32m    155\u001B[0m     documents: Optional[OneOrMany[Document]] \u001B[38;5;241m=\u001B[39m \u001B[38;5;28;01mNone\u001B[39;00m,\n\u001B[0;32m    156\u001B[0m     images: Optional[OneOrMany[Image]] \u001B[38;5;241m=\u001B[39m \u001B[38;5;28;01mNone\u001B[39;00m,\n\u001B[0;32m    157\u001B[0m     uris: Optional[OneOrMany[URI]] \u001B[38;5;241m=\u001B[39m \u001B[38;5;28;01mNone\u001B[39;00m,\n\u001B[0;32m    158\u001B[0m ) \u001B[38;5;241m-\u001B[39m\u001B[38;5;241m>\u001B[39m BaseRecordSet:\n\u001B[0;32m    159\u001B[0m \u001B[38;5;250m    \u001B[39m\u001B[38;5;124;03m\"\"\"\u001B[39;00m\n\u001B[0;32m    160\u001B[0m \u001B[38;5;124;03m    Unpacks and normalizes the fields of a BaseRecordSet.\u001B[39;00m\n\u001B[0;32m    161\u001B[0m \u001B[38;5;124;03m    \"\"\"\u001B[39;00m\n\u001B[0;32m    163\u001B[0m     \u001B[38;5;28;01mreturn\u001B[39;00m BaseRecordSet(\n\u001B[1;32m--> 164\u001B[0m         embeddings\u001B[38;5;241m=\u001B[39mnormalize_embeddings(embeddings),\n\u001B[0;32m    165\u001B[0m         documents\u001B[38;5;241m=\u001B[39mmaybe_cast_one_to_many(documents),\n\u001B[0;32m    166\u001B[0m         images\u001B[38;5;241m=\u001B[39mmaybe_cast_one_to_many(images),\n\u001B[0;32m    167\u001B[0m         uris\u001B[38;5;241m=\u001B[39mmaybe_cast_one_to_many(uris),\n\u001B[0;32m    168\u001B[0m     )\n",
      "File \u001B[1;32m~\\anaconda3\\Lib\\site-packages\\chromadb\\api\\types.py:74\u001B[0m, in \u001B[0;36mnormalize_embeddings\u001B[1;34m(target)\u001B[0m\n\u001B[0;32m     70\u001B[0m \u001B[38;5;28;01mif\u001B[39;00m \u001B[38;5;28misinstance\u001B[39m(target[\u001B[38;5;241m0\u001B[39m], \u001B[38;5;28mlist\u001B[39m):\n\u001B[0;32m     71\u001B[0m     \u001B[38;5;28;01mif\u001B[39;00m \u001B[38;5;28misinstance\u001B[39m(target[\u001B[38;5;241m0\u001B[39m][\u001B[38;5;241m0\u001B[39m], (\u001B[38;5;28mint\u001B[39m, \u001B[38;5;28mfloat\u001B[39m)) \u001B[38;5;129;01mand\u001B[39;00m \u001B[38;5;129;01mnot\u001B[39;00m \u001B[38;5;28misinstance\u001B[39m(\n\u001B[0;32m     72\u001B[0m         target[\u001B[38;5;241m0\u001B[39m][\u001B[38;5;241m0\u001B[39m], \u001B[38;5;28mbool\u001B[39m\n\u001B[0;32m     73\u001B[0m     ):\n\u001B[1;32m---> 74\u001B[0m         \u001B[38;5;28;01mreturn\u001B[39;00m [np\u001B[38;5;241m.\u001B[39marray(embedding, dtype\u001B[38;5;241m=\u001B[39mnp\u001B[38;5;241m.\u001B[39mfloat32) \u001B[38;5;28;01mfor\u001B[39;00m embedding \u001B[38;5;129;01min\u001B[39;00m target]\n\u001B[0;32m     75\u001B[0m \u001B[38;5;66;03m# List of np.ndarrays\u001B[39;00m\n\u001B[0;32m     76\u001B[0m \u001B[38;5;28;01mif\u001B[39;00m \u001B[38;5;28misinstance\u001B[39m(target[\u001B[38;5;241m0\u001B[39m], np\u001B[38;5;241m.\u001B[39mndarray):\n",
      "\u001B[1;31mKeyboardInterrupt\u001B[0m: "
     ]
    }
   ],
   "execution_count": 81
  },
  {
   "metadata": {
    "ExecuteTime": {
     "end_time": "2025-03-20T05:45:42.795021Z",
     "start_time": "2025-03-20T05:45:42.773732Z"
    }
   },
   "cell_type": "code",
   "source": [
    "def find_similars(product):\n",
    "    vector_item = client.embeddings.create(input=product, model='text-embedding-3-large')\n",
    "    results = collection.query(query_embeddings= vector_item.data[0].embedding, n_results=5)\n",
    "    title = []\n",
    "    vid_id = []\n",
    "    for i in range(len(results['documents'][0])):\n",
    "        title.append(results['documents'][0][i])\n",
    "        vid_id.append(results['metadatas'][0][i]['Vid_id'])\n",
    "    return title, vid_id"
   ],
   "id": "39e26fd9a2438277",
   "outputs": [],
   "execution_count": 57
  },
  {
   "metadata": {
    "ExecuteTime": {
     "end_time": "2025-03-20T06:24:10.013419Z",
     "start_time": "2025-03-20T06:24:08.284452Z"
    }
   },
   "cell_type": "code",
   "source": "title, vid_id = find_similars(\"NLP\")",
   "id": "51c3bc9995d7721a",
   "outputs": [
    {
     "ename": "InvalidCollectionException",
     "evalue": "Collection 9ec4b11c-91f6-4fb1-a4b8-733e607133d9 does not exist.",
     "output_type": "error",
     "traceback": [
      "\u001B[1;31m---------------------------------------------------------------------------\u001B[0m",
      "\u001B[1;31mInvalidCollectionException\u001B[0m                Traceback (most recent call last)",
      "Cell \u001B[1;32mIn[79], line 1\u001B[0m\n\u001B[1;32m----> 1\u001B[0m title, vid_id \u001B[38;5;241m=\u001B[39m find_similars(\u001B[38;5;124m\"\u001B[39m\u001B[38;5;124mNLP\u001B[39m\u001B[38;5;124m\"\u001B[39m)\n",
      "Cell \u001B[1;32mIn[57], line 3\u001B[0m, in \u001B[0;36mfind_similars\u001B[1;34m(product)\u001B[0m\n\u001B[0;32m      1\u001B[0m \u001B[38;5;28;01mdef\u001B[39;00m \u001B[38;5;21mfind_similars\u001B[39m(product):\n\u001B[0;32m      2\u001B[0m     vector_item \u001B[38;5;241m=\u001B[39m client\u001B[38;5;241m.\u001B[39membeddings\u001B[38;5;241m.\u001B[39mcreate(\u001B[38;5;28minput\u001B[39m\u001B[38;5;241m=\u001B[39mproduct, model\u001B[38;5;241m=\u001B[39m\u001B[38;5;124m'\u001B[39m\u001B[38;5;124mtext-embedding-3-large\u001B[39m\u001B[38;5;124m'\u001B[39m)\n\u001B[1;32m----> 3\u001B[0m     results \u001B[38;5;241m=\u001B[39m collection\u001B[38;5;241m.\u001B[39mquery(query_embeddings\u001B[38;5;241m=\u001B[39m vector_item\u001B[38;5;241m.\u001B[39mdata[\u001B[38;5;241m0\u001B[39m]\u001B[38;5;241m.\u001B[39membedding, n_results\u001B[38;5;241m=\u001B[39m\u001B[38;5;241m5\u001B[39m)\n\u001B[0;32m      4\u001B[0m     title \u001B[38;5;241m=\u001B[39m []\n\u001B[0;32m      5\u001B[0m     vid_id \u001B[38;5;241m=\u001B[39m []\n",
      "File \u001B[1;32m~\\anaconda3\\Lib\\site-packages\\chromadb\\api\\models\\Collection.py:222\u001B[0m, in \u001B[0;36mCollection.query\u001B[1;34m(self, query_embeddings, query_texts, query_images, query_uris, n_results, where, where_document, include)\u001B[0m\n\u001B[0;32m    188\u001B[0m \u001B[38;5;250m\u001B[39m\u001B[38;5;124;03m\"\"\"Get the n_results nearest neighbor embeddings for provided query_embeddings or query_texts.\u001B[39;00m\n\u001B[0;32m    189\u001B[0m \n\u001B[0;32m    190\u001B[0m \u001B[38;5;124;03mArgs:\u001B[39;00m\n\u001B[1;32m   (...)\u001B[0m\n\u001B[0;32m    208\u001B[0m \n\u001B[0;32m    209\u001B[0m \u001B[38;5;124;03m\"\"\"\u001B[39;00m\n\u001B[0;32m    211\u001B[0m query_request \u001B[38;5;241m=\u001B[39m \u001B[38;5;28mself\u001B[39m\u001B[38;5;241m.\u001B[39m_validate_and_prepare_query_request(\n\u001B[0;32m    212\u001B[0m     query_embeddings\u001B[38;5;241m=\u001B[39mquery_embeddings,\n\u001B[0;32m    213\u001B[0m     query_texts\u001B[38;5;241m=\u001B[39mquery_texts,\n\u001B[1;32m   (...)\u001B[0m\n\u001B[0;32m    219\u001B[0m     include\u001B[38;5;241m=\u001B[39minclude,\n\u001B[0;32m    220\u001B[0m )\n\u001B[1;32m--> 222\u001B[0m query_results \u001B[38;5;241m=\u001B[39m \u001B[38;5;28mself\u001B[39m\u001B[38;5;241m.\u001B[39m_client\u001B[38;5;241m.\u001B[39m_query(\n\u001B[0;32m    223\u001B[0m     collection_id\u001B[38;5;241m=\u001B[39m\u001B[38;5;28mself\u001B[39m\u001B[38;5;241m.\u001B[39mid,\n\u001B[0;32m    224\u001B[0m     query_embeddings\u001B[38;5;241m=\u001B[39mquery_request[\u001B[38;5;124m\"\u001B[39m\u001B[38;5;124membeddings\u001B[39m\u001B[38;5;124m\"\u001B[39m],\n\u001B[0;32m    225\u001B[0m     n_results\u001B[38;5;241m=\u001B[39mquery_request[\u001B[38;5;124m\"\u001B[39m\u001B[38;5;124mn_results\u001B[39m\u001B[38;5;124m\"\u001B[39m],\n\u001B[0;32m    226\u001B[0m     where\u001B[38;5;241m=\u001B[39mquery_request[\u001B[38;5;124m\"\u001B[39m\u001B[38;5;124mwhere\u001B[39m\u001B[38;5;124m\"\u001B[39m],\n\u001B[0;32m    227\u001B[0m     where_document\u001B[38;5;241m=\u001B[39mquery_request[\u001B[38;5;124m\"\u001B[39m\u001B[38;5;124mwhere_document\u001B[39m\u001B[38;5;124m\"\u001B[39m],\n\u001B[0;32m    228\u001B[0m     include\u001B[38;5;241m=\u001B[39mquery_request[\u001B[38;5;124m\"\u001B[39m\u001B[38;5;124minclude\u001B[39m\u001B[38;5;124m\"\u001B[39m],\n\u001B[0;32m    229\u001B[0m     tenant\u001B[38;5;241m=\u001B[39m\u001B[38;5;28mself\u001B[39m\u001B[38;5;241m.\u001B[39mtenant,\n\u001B[0;32m    230\u001B[0m     database\u001B[38;5;241m=\u001B[39m\u001B[38;5;28mself\u001B[39m\u001B[38;5;241m.\u001B[39mdatabase,\n\u001B[0;32m    231\u001B[0m )\n\u001B[0;32m    233\u001B[0m \u001B[38;5;28;01mreturn\u001B[39;00m \u001B[38;5;28mself\u001B[39m\u001B[38;5;241m.\u001B[39m_transform_query_response(\n\u001B[0;32m    234\u001B[0m     response\u001B[38;5;241m=\u001B[39mquery_results, include\u001B[38;5;241m=\u001B[39mquery_request[\u001B[38;5;124m\"\u001B[39m\u001B[38;5;124minclude\u001B[39m\u001B[38;5;124m\"\u001B[39m]\n\u001B[0;32m    235\u001B[0m )\n",
      "File \u001B[1;32m~\\anaconda3\\Lib\\site-packages\\chromadb\\telemetry\\opentelemetry\\__init__.py:150\u001B[0m, in \u001B[0;36mtrace_method.<locals>.decorator.<locals>.wrapper\u001B[1;34m(*args, **kwargs)\u001B[0m\n\u001B[0;32m    148\u001B[0m \u001B[38;5;28;01mglobal\u001B[39;00m tracer, granularity\n\u001B[0;32m    149\u001B[0m \u001B[38;5;28;01mif\u001B[39;00m trace_granularity \u001B[38;5;241m<\u001B[39m granularity:\n\u001B[1;32m--> 150\u001B[0m     \u001B[38;5;28;01mreturn\u001B[39;00m f(\u001B[38;5;241m*\u001B[39margs, \u001B[38;5;241m*\u001B[39m\u001B[38;5;241m*\u001B[39mkwargs)\n\u001B[0;32m    151\u001B[0m \u001B[38;5;28;01mif\u001B[39;00m \u001B[38;5;129;01mnot\u001B[39;00m tracer:\n\u001B[0;32m    152\u001B[0m     \u001B[38;5;28;01mreturn\u001B[39;00m f(\u001B[38;5;241m*\u001B[39margs, \u001B[38;5;241m*\u001B[39m\u001B[38;5;241m*\u001B[39mkwargs)\n",
      "File \u001B[1;32m~\\anaconda3\\Lib\\site-packages\\tenacity\\__init__.py:289\u001B[0m, in \u001B[0;36mBaseRetrying.wraps.<locals>.wrapped_f\u001B[1;34m(*args, **kw)\u001B[0m\n\u001B[0;32m    287\u001B[0m \u001B[38;5;129m@functools\u001B[39m\u001B[38;5;241m.\u001B[39mwraps(f)\n\u001B[0;32m    288\u001B[0m \u001B[38;5;28;01mdef\u001B[39;00m \u001B[38;5;21mwrapped_f\u001B[39m(\u001B[38;5;241m*\u001B[39margs: t\u001B[38;5;241m.\u001B[39mAny, \u001B[38;5;241m*\u001B[39m\u001B[38;5;241m*\u001B[39mkw: t\u001B[38;5;241m.\u001B[39mAny) \u001B[38;5;241m-\u001B[39m\u001B[38;5;241m>\u001B[39m t\u001B[38;5;241m.\u001B[39mAny:\n\u001B[1;32m--> 289\u001B[0m     \u001B[38;5;28;01mreturn\u001B[39;00m \u001B[38;5;28mself\u001B[39m(f, \u001B[38;5;241m*\u001B[39margs, \u001B[38;5;241m*\u001B[39m\u001B[38;5;241m*\u001B[39mkw)\n",
      "File \u001B[1;32m~\\anaconda3\\Lib\\site-packages\\tenacity\\__init__.py:379\u001B[0m, in \u001B[0;36mRetrying.__call__\u001B[1;34m(self, fn, *args, **kwargs)\u001B[0m\n\u001B[0;32m    377\u001B[0m retry_state \u001B[38;5;241m=\u001B[39m RetryCallState(retry_object\u001B[38;5;241m=\u001B[39m\u001B[38;5;28mself\u001B[39m, fn\u001B[38;5;241m=\u001B[39mfn, args\u001B[38;5;241m=\u001B[39margs, kwargs\u001B[38;5;241m=\u001B[39mkwargs)\n\u001B[0;32m    378\u001B[0m \u001B[38;5;28;01mwhile\u001B[39;00m \u001B[38;5;28;01mTrue\u001B[39;00m:\n\u001B[1;32m--> 379\u001B[0m     do \u001B[38;5;241m=\u001B[39m \u001B[38;5;28mself\u001B[39m\u001B[38;5;241m.\u001B[39miter(retry_state\u001B[38;5;241m=\u001B[39mretry_state)\n\u001B[0;32m    380\u001B[0m     \u001B[38;5;28;01mif\u001B[39;00m \u001B[38;5;28misinstance\u001B[39m(do, DoAttempt):\n\u001B[0;32m    381\u001B[0m         \u001B[38;5;28;01mtry\u001B[39;00m:\n",
      "File \u001B[1;32m~\\anaconda3\\Lib\\site-packages\\tenacity\\__init__.py:314\u001B[0m, in \u001B[0;36mBaseRetrying.iter\u001B[1;34m(self, retry_state)\u001B[0m\n\u001B[0;32m    312\u001B[0m is_explicit_retry \u001B[38;5;241m=\u001B[39m fut\u001B[38;5;241m.\u001B[39mfailed \u001B[38;5;129;01mand\u001B[39;00m \u001B[38;5;28misinstance\u001B[39m(fut\u001B[38;5;241m.\u001B[39mexception(), TryAgain)\n\u001B[0;32m    313\u001B[0m \u001B[38;5;28;01mif\u001B[39;00m \u001B[38;5;129;01mnot\u001B[39;00m (is_explicit_retry \u001B[38;5;129;01mor\u001B[39;00m \u001B[38;5;28mself\u001B[39m\u001B[38;5;241m.\u001B[39mretry(retry_state)):\n\u001B[1;32m--> 314\u001B[0m     \u001B[38;5;28;01mreturn\u001B[39;00m fut\u001B[38;5;241m.\u001B[39mresult()\n\u001B[0;32m    316\u001B[0m \u001B[38;5;28;01mif\u001B[39;00m \u001B[38;5;28mself\u001B[39m\u001B[38;5;241m.\u001B[39mafter \u001B[38;5;129;01mis\u001B[39;00m \u001B[38;5;129;01mnot\u001B[39;00m \u001B[38;5;28;01mNone\u001B[39;00m:\n\u001B[0;32m    317\u001B[0m     \u001B[38;5;28mself\u001B[39m\u001B[38;5;241m.\u001B[39mafter(retry_state)\n",
      "File \u001B[1;32m~\\anaconda3\\Lib\\concurrent\\futures\\_base.py:449\u001B[0m, in \u001B[0;36mFuture.result\u001B[1;34m(self, timeout)\u001B[0m\n\u001B[0;32m    447\u001B[0m     \u001B[38;5;28;01mraise\u001B[39;00m CancelledError()\n\u001B[0;32m    448\u001B[0m \u001B[38;5;28;01melif\u001B[39;00m \u001B[38;5;28mself\u001B[39m\u001B[38;5;241m.\u001B[39m_state \u001B[38;5;241m==\u001B[39m FINISHED:\n\u001B[1;32m--> 449\u001B[0m     \u001B[38;5;28;01mreturn\u001B[39;00m \u001B[38;5;28mself\u001B[39m\u001B[38;5;241m.\u001B[39m__get_result()\n\u001B[0;32m    451\u001B[0m \u001B[38;5;28mself\u001B[39m\u001B[38;5;241m.\u001B[39m_condition\u001B[38;5;241m.\u001B[39mwait(timeout)\n\u001B[0;32m    453\u001B[0m \u001B[38;5;28;01mif\u001B[39;00m \u001B[38;5;28mself\u001B[39m\u001B[38;5;241m.\u001B[39m_state \u001B[38;5;129;01min\u001B[39;00m [CANCELLED, CANCELLED_AND_NOTIFIED]:\n",
      "File \u001B[1;32m~\\anaconda3\\Lib\\concurrent\\futures\\_base.py:401\u001B[0m, in \u001B[0;36mFuture.__get_result\u001B[1;34m(self)\u001B[0m\n\u001B[0;32m    399\u001B[0m \u001B[38;5;28;01mif\u001B[39;00m \u001B[38;5;28mself\u001B[39m\u001B[38;5;241m.\u001B[39m_exception:\n\u001B[0;32m    400\u001B[0m     \u001B[38;5;28;01mtry\u001B[39;00m:\n\u001B[1;32m--> 401\u001B[0m         \u001B[38;5;28;01mraise\u001B[39;00m \u001B[38;5;28mself\u001B[39m\u001B[38;5;241m.\u001B[39m_exception\n\u001B[0;32m    402\u001B[0m     \u001B[38;5;28;01mfinally\u001B[39;00m:\n\u001B[0;32m    403\u001B[0m         \u001B[38;5;66;03m# Break a reference cycle with the exception in self._exception\u001B[39;00m\n\u001B[0;32m    404\u001B[0m         \u001B[38;5;28mself\u001B[39m \u001B[38;5;241m=\u001B[39m \u001B[38;5;28;01mNone\u001B[39;00m\n",
      "File \u001B[1;32m~\\anaconda3\\Lib\\site-packages\\tenacity\\__init__.py:382\u001B[0m, in \u001B[0;36mRetrying.__call__\u001B[1;34m(self, fn, *args, **kwargs)\u001B[0m\n\u001B[0;32m    380\u001B[0m \u001B[38;5;28;01mif\u001B[39;00m \u001B[38;5;28misinstance\u001B[39m(do, DoAttempt):\n\u001B[0;32m    381\u001B[0m     \u001B[38;5;28;01mtry\u001B[39;00m:\n\u001B[1;32m--> 382\u001B[0m         result \u001B[38;5;241m=\u001B[39m fn(\u001B[38;5;241m*\u001B[39margs, \u001B[38;5;241m*\u001B[39m\u001B[38;5;241m*\u001B[39mkwargs)\n\u001B[0;32m    383\u001B[0m     \u001B[38;5;28;01mexcept\u001B[39;00m \u001B[38;5;167;01mBaseException\u001B[39;00m:  \u001B[38;5;66;03m# noqa: B902\u001B[39;00m\n\u001B[0;32m    384\u001B[0m         retry_state\u001B[38;5;241m.\u001B[39mset_exception(sys\u001B[38;5;241m.\u001B[39mexc_info())  \u001B[38;5;66;03m# type: ignore[arg-type]\u001B[39;00m\n",
      "File \u001B[1;32m~\\anaconda3\\Lib\\site-packages\\chromadb\\api\\segment.py:103\u001B[0m, in \u001B[0;36mrate_limit.<locals>.wrapper\u001B[1;34m(*args, **kwargs)\u001B[0m\n\u001B[0;32m    100\u001B[0m \u001B[38;5;129m@wraps\u001B[39m(func)\n\u001B[0;32m    101\u001B[0m \u001B[38;5;28;01mdef\u001B[39;00m \u001B[38;5;21mwrapper\u001B[39m(\u001B[38;5;241m*\u001B[39margs: Any, \u001B[38;5;241m*\u001B[39m\u001B[38;5;241m*\u001B[39mkwargs: Any) \u001B[38;5;241m-\u001B[39m\u001B[38;5;241m>\u001B[39m Any:\n\u001B[0;32m    102\u001B[0m     \u001B[38;5;28mself\u001B[39m \u001B[38;5;241m=\u001B[39m args[\u001B[38;5;241m0\u001B[39m]\n\u001B[1;32m--> 103\u001B[0m     \u001B[38;5;28;01mreturn\u001B[39;00m \u001B[38;5;28mself\u001B[39m\u001B[38;5;241m.\u001B[39m_rate_limit_enforcer\u001B[38;5;241m.\u001B[39mrate_limit(func)(\u001B[38;5;241m*\u001B[39margs, \u001B[38;5;241m*\u001B[39m\u001B[38;5;241m*\u001B[39mkwargs)\n",
      "File \u001B[1;32m~\\anaconda3\\Lib\\site-packages\\chromadb\\rate_limit\\simple_rate_limit\\__init__.py:24\u001B[0m, in \u001B[0;36mSimpleRateLimitEnforcer.rate_limit.<locals>.wrapper\u001B[1;34m(*args, **kwargs)\u001B[0m\n\u001B[0;32m     22\u001B[0m \u001B[38;5;129m@wraps\u001B[39m(func)\n\u001B[0;32m     23\u001B[0m \u001B[38;5;28;01mdef\u001B[39;00m \u001B[38;5;21mwrapper\u001B[39m(\u001B[38;5;241m*\u001B[39margs: Any, \u001B[38;5;241m*\u001B[39m\u001B[38;5;241m*\u001B[39mkwargs: Any) \u001B[38;5;241m-\u001B[39m\u001B[38;5;241m>\u001B[39m Any:\n\u001B[1;32m---> 24\u001B[0m     \u001B[38;5;28;01mreturn\u001B[39;00m func(\u001B[38;5;241m*\u001B[39margs, \u001B[38;5;241m*\u001B[39m\u001B[38;5;241m*\u001B[39mkwargs)\n",
      "File \u001B[1;32m~\\anaconda3\\Lib\\site-packages\\chromadb\\api\\segment.py:803\u001B[0m, in \u001B[0;36mSegmentAPI._query\u001B[1;34m(self, collection_id, query_embeddings, n_results, where, where_document, include, tenant, database)\u001B[0m\n\u001B[0;32m    800\u001B[0m \u001B[38;5;28;01mif\u001B[39;00m where_document \u001B[38;5;129;01mis\u001B[39;00m \u001B[38;5;129;01mnot\u001B[39;00m \u001B[38;5;28;01mNone\u001B[39;00m:\n\u001B[0;32m    801\u001B[0m     validate_where_document(where_document)\n\u001B[1;32m--> 803\u001B[0m scan \u001B[38;5;241m=\u001B[39m \u001B[38;5;28mself\u001B[39m\u001B[38;5;241m.\u001B[39m_scan(collection_id)\n\u001B[0;32m    804\u001B[0m \u001B[38;5;28;01mfor\u001B[39;00m embedding \u001B[38;5;129;01min\u001B[39;00m query_embeddings:\n\u001B[0;32m    805\u001B[0m     \u001B[38;5;28mself\u001B[39m\u001B[38;5;241m.\u001B[39m_validate_dimension(scan\u001B[38;5;241m.\u001B[39mcollection, \u001B[38;5;28mlen\u001B[39m(embedding), update\u001B[38;5;241m=\u001B[39m\u001B[38;5;28;01mFalse\u001B[39;00m)\n",
      "File \u001B[1;32m~\\anaconda3\\Lib\\site-packages\\chromadb\\telemetry\\opentelemetry\\__init__.py:150\u001B[0m, in \u001B[0;36mtrace_method.<locals>.decorator.<locals>.wrapper\u001B[1;34m(*args, **kwargs)\u001B[0m\n\u001B[0;32m    148\u001B[0m \u001B[38;5;28;01mglobal\u001B[39;00m tracer, granularity\n\u001B[0;32m    149\u001B[0m \u001B[38;5;28;01mif\u001B[39;00m trace_granularity \u001B[38;5;241m<\u001B[39m granularity:\n\u001B[1;32m--> 150\u001B[0m     \u001B[38;5;28;01mreturn\u001B[39;00m f(\u001B[38;5;241m*\u001B[39margs, \u001B[38;5;241m*\u001B[39m\u001B[38;5;241m*\u001B[39mkwargs)\n\u001B[0;32m    151\u001B[0m \u001B[38;5;28;01mif\u001B[39;00m \u001B[38;5;129;01mnot\u001B[39;00m tracer:\n\u001B[0;32m    152\u001B[0m     \u001B[38;5;28;01mreturn\u001B[39;00m f(\u001B[38;5;241m*\u001B[39margs, \u001B[38;5;241m*\u001B[39m\u001B[38;5;241m*\u001B[39mkwargs)\n",
      "File \u001B[1;32m~\\anaconda3\\Lib\\site-packages\\chromadb\\api\\segment.py:913\u001B[0m, in \u001B[0;36mSegmentAPI._scan\u001B[1;34m(self, collection_id)\u001B[0m\n\u001B[0;32m    911\u001B[0m \u001B[38;5;129m@trace_method\u001B[39m(\u001B[38;5;124m\"\u001B[39m\u001B[38;5;124mSegmentAPI._scan\u001B[39m\u001B[38;5;124m\"\u001B[39m, OpenTelemetryGranularity\u001B[38;5;241m.\u001B[39mALL)\n\u001B[0;32m    912\u001B[0m \u001B[38;5;28;01mdef\u001B[39;00m \u001B[38;5;21m_scan\u001B[39m(\u001B[38;5;28mself\u001B[39m, collection_id: UUID) \u001B[38;5;241m-\u001B[39m\u001B[38;5;241m>\u001B[39m Scan:\n\u001B[1;32m--> 913\u001B[0m     collection_and_segments \u001B[38;5;241m=\u001B[39m \u001B[38;5;28mself\u001B[39m\u001B[38;5;241m.\u001B[39m_sysdb\u001B[38;5;241m.\u001B[39mget_collection_with_segments(\n\u001B[0;32m    914\u001B[0m         collection_id\n\u001B[0;32m    915\u001B[0m     )\n\u001B[0;32m    916\u001B[0m     \u001B[38;5;66;03m# For now collection should have exactly one segment per scope:\u001B[39;00m\n\u001B[0;32m    917\u001B[0m     \u001B[38;5;66;03m# - Local scopes: vector, metadata\u001B[39;00m\n\u001B[0;32m    918\u001B[0m     \u001B[38;5;66;03m# - Distributed scopes: vector, metadata, record\u001B[39;00m\n\u001B[0;32m    919\u001B[0m     scope_to_segment \u001B[38;5;241m=\u001B[39m {\n\u001B[0;32m    920\u001B[0m         segment[\u001B[38;5;124m\"\u001B[39m\u001B[38;5;124mscope\u001B[39m\u001B[38;5;124m\"\u001B[39m]: segment \u001B[38;5;28;01mfor\u001B[39;00m segment \u001B[38;5;129;01min\u001B[39;00m collection_and_segments[\u001B[38;5;124m\"\u001B[39m\u001B[38;5;124msegments\u001B[39m\u001B[38;5;124m\"\u001B[39m]\n\u001B[0;32m    921\u001B[0m     }\n",
      "File \u001B[1;32m~\\anaconda3\\Lib\\site-packages\\chromadb\\db\\mixins\\sysdb.py:562\u001B[0m, in \u001B[0;36mSqlSysDB.get_collection_with_segments\u001B[1;34m(self, collection_id)\u001B[0m\n\u001B[0;32m    560\u001B[0m collections \u001B[38;5;241m=\u001B[39m \u001B[38;5;28mself\u001B[39m\u001B[38;5;241m.\u001B[39mget_collections(\u001B[38;5;28mid\u001B[39m\u001B[38;5;241m=\u001B[39mcollection_id)\n\u001B[0;32m    561\u001B[0m \u001B[38;5;28;01mif\u001B[39;00m \u001B[38;5;28mlen\u001B[39m(collections) \u001B[38;5;241m==\u001B[39m \u001B[38;5;241m0\u001B[39m:\n\u001B[1;32m--> 562\u001B[0m     \u001B[38;5;28;01mraise\u001B[39;00m InvalidCollectionException(\n\u001B[0;32m    563\u001B[0m         \u001B[38;5;124mf\u001B[39m\u001B[38;5;124m\"\u001B[39m\u001B[38;5;124mCollection \u001B[39m\u001B[38;5;132;01m{\u001B[39;00mcollection_id\u001B[38;5;132;01m}\u001B[39;00m\u001B[38;5;124m does not exist.\u001B[39m\u001B[38;5;124m\"\u001B[39m\n\u001B[0;32m    564\u001B[0m     )\n\u001B[0;32m    565\u001B[0m \u001B[38;5;28;01mreturn\u001B[39;00m CollectionAndSegments(\n\u001B[0;32m    566\u001B[0m     collection\u001B[38;5;241m=\u001B[39mcollections[\u001B[38;5;241m0\u001B[39m],\n\u001B[0;32m    567\u001B[0m     segments\u001B[38;5;241m=\u001B[39m\u001B[38;5;28mself\u001B[39m\u001B[38;5;241m.\u001B[39mget_segments(collection\u001B[38;5;241m=\u001B[39mcollection_id),\n\u001B[0;32m    568\u001B[0m )\n",
      "\u001B[1;31mInvalidCollectionException\u001B[0m: Collection 9ec4b11c-91f6-4fb1-a4b8-733e607133d9 does not exist."
     ]
    }
   ],
   "execution_count": 79
  },
  {
   "metadata": {
    "ExecuteTime": {
     "end_time": "2025-03-20T05:45:53.794978Z",
     "start_time": "2025-03-20T05:45:53.786941Z"
    }
   },
   "cell_type": "code",
   "source": "title",
   "id": "5e019ee43cac2676",
   "outputs": [
    {
     "data": {
      "text/plain": [
       "['Artificial Intelligence',\n",
       " 'LEA',\n",
       " 'Nitrogen Propelled Rocket Launcher (N.P.R.L.)',\n",
       " 'Artificial Neural Networks and Deep Learning | Two Minute Papers #3',\n",
       " \"It's Not Magic. It's Data - Artificial Intelligence for Business\"]"
      ]
     },
     "execution_count": 59,
     "metadata": {},
     "output_type": "execute_result"
    }
   ],
   "execution_count": 59
  },
  {
   "metadata": {
    "ExecuteTime": {
     "end_time": "2025-03-20T05:46:01.235678Z",
     "start_time": "2025-03-20T05:46:01.215985Z"
    }
   },
   "cell_type": "code",
   "source": "vid_id",
   "id": "f135426cca3aa02b",
   "outputs": [
    {
     "data": {
      "text/plain": [
       "['5J5bDQHQR1g', 'uTDyJzsJRL4', 'jrRmID81wrc', 'rCWTOOgVXyE', 'x-zfsLuZukM']"
      ]
     },
     "execution_count": 60,
     "metadata": {},
     "output_type": "execute_result"
    }
   ],
   "execution_count": 60
  },
  {
   "metadata": {
    "ExecuteTime": {
     "end_time": "2025-03-20T05:56:04.239118Z",
     "start_time": "2025-03-20T05:56:04.224647Z"
    }
   },
   "cell_type": "code",
   "source": [
    "def messages_for(item):\n",
    "    system_message = \"You estimate which video below is suitable for the keyword that user want.Only return video title and Video ID\"\n",
    "    title, vid_id = find_similars(item)\n",
    "    user_prompt = \"Here is 5 choices that you can choose from:\\n\"\n",
    "    for i in range(len(title)):\n",
    "        user_prompt += f\"1. Title: {title[i]}\\n Video ID: {vid_id[i]}\\n\"\n",
    "    user_prompt += \"And now the question for you:\\n\\n\"\n",
    "    user_prompt +=  f\"Analyze and determine three titles suitable for the keyword: {item}\\n\"\n",
    "    return [\n",
    "        {\"role\": \"system\", \"content\": system_message},\n",
    "        {\"role\": \"user\", \"content\": user_prompt},\n",
    "        {\"role\": \"assistant\", \"content\": \"Title is , video id is\"}\n",
    "    ]"
   ],
   "id": "ffff39f8b49d27cc",
   "outputs": [],
   "execution_count": 71
  },
  {
   "metadata": {
    "ExecuteTime": {
     "end_time": "2025-03-20T05:56:06.122882Z",
     "start_time": "2025-03-20T05:56:06.104466Z"
    }
   },
   "cell_type": "code",
   "source": [
    "def reply_from_chat_bot(item):\n",
    "    response = client.chat.completions.create(\n",
    "        model = \"gpt-4o\",\n",
    "        messages = messages_for(item)\n",
    "    )\n",
    "    result_from_ai = response.choices[0].message.content\n",
    "    return result_from_ai"
   ],
   "id": "5a3a393a265ca4e7",
   "outputs": [],
   "execution_count": 72
  },
  {
   "metadata": {
    "ExecuteTime": {
     "end_time": "2025-03-20T05:57:43.917443Z",
     "start_time": "2025-03-20T05:57:41.816750Z"
    }
   },
   "cell_type": "code",
   "source": "str1 = reply_from_chat_bot(\"NLP\")",
   "id": "d2bc43e7447ef209",
   "outputs": [],
   "execution_count": 74
  },
  {
   "metadata": {
    "ExecuteTime": {
     "end_time": "2025-03-20T05:58:08.696517Z",
     "start_time": "2025-03-20T05:58:08.681503Z"
    }
   },
   "cell_type": "code",
   "source": "arr = str1.split(\"\\n\\n\")",
   "id": "b5f3283069a19e08",
   "outputs": [],
   "execution_count": 77
  },
  {
   "metadata": {
    "ExecuteTime": {
     "end_time": "2025-03-20T05:58:09.781254Z",
     "start_time": "2025-03-20T05:58:09.768321Z"
    }
   },
   "cell_type": "code",
   "source": "arr[0]",
   "id": "d1710e61262c237b",
   "outputs": [
    {
     "data": {
      "text/plain": [
       "'Title: Artificial Intelligence\\nVideo ID: 5J5bDQHQR1g'"
      ]
     },
     "execution_count": 78,
     "metadata": {},
     "output_type": "execute_result"
    }
   ],
   "execution_count": 78
  },
  {
   "metadata": {
    "ExecuteTime": {
     "end_time": "2025-03-20T06:27:17.311511Z",
     "start_time": "2025-03-20T06:26:44.363831Z"
    }
   },
   "cell_type": "code",
   "source": [
    "with open(\"output.json\", \"r\") as f:\n",
    "    data = json.load(f)"
   ],
   "id": "bbfeb7c173c1022a",
   "outputs": [],
   "execution_count": 83
  },
  {
   "metadata": {
    "ExecuteTime": {
     "end_time": "2025-03-20T06:27:29.245989Z",
     "start_time": "2025-03-20T06:27:29.057698Z"
    }
   },
   "cell_type": "code",
   "source": [
    "chroma_client = chromadb.PersistentClient(path=\"./chroma_db\")  # Use an in-memory or persistent database\n",
    "#self.collection = chroma_client.get_or_create_collection(name=\"openai_embeddings\", embedding_function=openai_ef)\n",
    "chroma_client.delete_collection(name=\"openai_embeddings\")\n",
    "collection = chroma_client.create_collection(name=\"openai_embeddings\", embedding_function=openai_ef)"
   ],
   "id": "2da203f189592cf8",
   "outputs": [],
   "execution_count": 84
  },
  {
   "metadata": {
    "ExecuteTime": {
     "end_time": "2025-03-20T06:27:31.885883Z",
     "start_time": "2025-03-20T06:27:31.011481Z"
    }
   },
   "cell_type": "code",
   "source": [
    "ids = data.get('ids')\n",
    "documents = data.get('documents')\n",
    "metadata = data.get('metadata')\n",
    "vectors = data.get('vectors')"
   ],
   "id": "582ab9deba77024c",
   "outputs": [],
   "execution_count": 85
  },
  {
   "metadata": {
    "ExecuteTime": {
     "end_time": "2025-03-20T06:28:54.179060Z",
     "start_time": "2025-03-20T06:28:01.498560Z"
    }
   },
   "cell_type": "code",
   "source": [
    "collection.add(\n",
    "            ids=ids,\n",
    "            documents=documents,\n",
    "            metadatas=metadata,\n",
    "            embeddings=vectors\n",
    "        )\n"
   ],
   "id": "cc014f6e5476e1be",
   "outputs": [],
   "execution_count": 89
  },
  {
   "metadata": {
    "ExecuteTime": {
     "end_time": "2025-03-20T06:29:10.743305Z",
     "start_time": "2025-03-20T06:29:08.086060Z"
    }
   },
   "cell_type": "code",
   "source": "reply_from_chat_bot(\"NLP\")",
   "id": "ac63749563341a9a",
   "outputs": [
    {
     "data": {
      "text/plain": [
       "\"Video 1: Artificial Intelligence\\nVideo ID: 5J5bDQHQR1g\\n\\nVideo 4: Artificial Neural Networks and Deep Learning | Two Minute Papers #3\\nVideo ID: rCWTOOgVXyE\\n\\nVideo 5: It's Not Magic. It's Data - Artificial Intelligence for Business\\nVideo ID: x-zfsLuZukM\""
      ]
     },
     "execution_count": 90,
     "metadata": {},
     "output_type": "execute_result"
    }
   ],
   "execution_count": 90
  }
 ],
 "metadata": {
  "kernelspec": {
   "display_name": "Python 3",
   "language": "python",
   "name": "python3"
  },
  "language_info": {
   "codemirror_mode": {
    "name": "ipython",
    "version": 2
   },
   "file_extension": ".py",
   "mimetype": "text/x-python",
   "name": "python",
   "nbconvert_exporter": "python",
   "pygments_lexer": "ipython2",
   "version": "2.7.6"
  }
 },
 "nbformat": 4,
 "nbformat_minor": 5
}
