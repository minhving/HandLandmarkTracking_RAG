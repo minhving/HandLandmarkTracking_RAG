{
 "cells": [
  {
   "cell_type": "code",
   "id": "initial_id",
   "metadata": {
    "collapsed": true,
    "ExecuteTime": {
     "end_time": "2025-03-20T11:19:02.815605Z",
     "start_time": "2025-03-20T11:18:41.496026Z"
    }
   },
   "source": "from imports import *",
   "outputs": [],
   "execution_count": 1
  },
  {
   "metadata": {
    "ExecuteTime": {
     "end_time": "2025-03-20T11:20:30.601026Z",
     "start_time": "2025-03-20T11:19:02.947174Z"
    }
   },
   "cell_type": "code",
   "source": [
    "\n",
    "model = RagOpenAI()\n",
    "model.initialize_openai()\n"
   ],
   "id": "530bdae8d9e6de53",
   "outputs": [],
   "execution_count": 2
  },
  {
   "metadata": {
    "ExecuteTime": {
     "end_time": "2025-03-20T11:20:32.208115Z",
     "start_time": "2025-03-20T11:20:30.636996Z"
    }
   },
   "cell_type": "code",
   "source": [
    "result = model.reply_from_chat_bot(\"NLY\")\n",
    "print(result)"
   ],
   "id": "9169bfb48f3817a3",
   "outputs": [
    {
     "name": "stdout",
     "output_type": "stream",
     "text": [
      "1. Title: LEA\n",
      "   Video ID: uTDyJzsJRL4\n",
      "\n",
      "2. Title: Sweater Nails\n",
      "   Video ID: ip5V5KtrA1k\n",
      "\n",
      "3. Title: ANOTHER MUSIC VIDEO.\n",
      "   Video ID: bx9IJ3RhiFE\n"
     ]
    }
   ],
   "execution_count": 3
  },
  {
   "metadata": {
    "ExecuteTime": {
     "end_time": "2025-03-20T11:48:19.827968Z",
     "start_time": "2025-03-20T11:48:19.820726Z"
    }
   },
   "cell_type": "code",
   "source": "result[17:26]",
   "id": "94ddfc8e3df2a32e",
   "outputs": [
    {
     "data": {
      "text/plain": [
       "'Video ID:'"
      ]
     },
     "execution_count": 24,
     "metadata": {},
     "output_type": "execute_result"
    }
   ],
   "execution_count": 24
  },
  {
   "metadata": {
    "ExecuteTime": {
     "end_time": "2025-03-20T11:48:13.552344Z",
     "start_time": "2025-03-20T11:48:13.546084Z"
    }
   },
   "cell_type": "code",
   "source": "print(result.find(\"Video ID:\"))",
   "id": "1a99b035cfa9031d",
   "outputs": [
    {
     "name": "stdout",
     "output_type": "stream",
     "text": [
      "17\n"
     ]
    }
   ],
   "execution_count": 23
  },
  {
   "metadata": {
    "ExecuteTime": {
     "end_time": "2025-03-20T11:49:14.496300Z",
     "start_time": "2025-03-20T11:49:14.491088Z"
    }
   },
   "cell_type": "code",
   "source": [
    "title_index = []\n",
    "video_id = []\n",
    "for i in range(len(result)):\n",
    "    if i + 6 < len(result):\n",
    "        if result[i:i+6] == \"Title:\":\n",
    "            title_index.append(i)\n",
    "    if i + 9 < len(result):\n",
    "        if result[i:i+9] == \"Video ID:\":\n",
    "            video_id.append(i)"
   ],
   "id": "148d50b8966d2d87",
   "outputs": [],
   "execution_count": 25
  },
  {
   "metadata": {
    "ExecuteTime": {
     "end_time": "2025-03-20T11:49:15.996197Z",
     "start_time": "2025-03-20T11:49:15.990679Z"
    }
   },
   "cell_type": "code",
   "source": [
    "print(title_index)\n",
    "print(video_id)"
   ],
   "id": "92459d2ec4cb39d",
   "outputs": [
    {
     "name": "stdout",
     "output_type": "stream",
     "text": [
      "[3, 43, 93]\n",
      "[17, 67, 124]\n"
     ]
    }
   ],
   "execution_count": 26
  },
  {
   "metadata": {
    "ExecuteTime": {
     "end_time": "2025-03-20T11:50:15.506501Z",
     "start_time": "2025-03-20T11:50:15.498035Z"
    }
   },
   "cell_type": "code",
   "source": "result[3+6:16].strip()",
   "id": "6bce5a0492b1f376",
   "outputs": [
    {
     "data": {
      "text/plain": [
       "'LEA'"
      ]
     },
     "execution_count": 30,
     "metadata": {},
     "output_type": "execute_result"
    }
   ],
   "execution_count": 30
  },
  {
   "metadata": {
    "ExecuteTime": {
     "end_time": "2025-03-20T11:54:46.779280Z",
     "start_time": "2025-03-20T11:54:46.771652Z"
    }
   },
   "cell_type": "code",
   "source": [
    "title = []\n",
    "ids = []\n",
    "for i in range(len(title_index)):\n",
    "    if i+1 < len(title_index):\n",
    "        title.append(result[title_index[i]+6:video_id[i]-1].strip())\n",
    "        ids.append(result[video_id[i]+9:title_index[i+1]-3].strip())\n",
    "    else:\n",
    "        title.append(result[title_index[i]+6:video_id[i]-1].strip())\n",
    "        ids.append(result[video_id[i]+9:].strip())"
   ],
   "id": "881df87fbf283eac",
   "outputs": [],
   "execution_count": 34
  },
  {
   "metadata": {
    "ExecuteTime": {
     "end_time": "2025-03-20T11:54:14.661795Z",
     "start_time": "2025-03-20T11:54:14.654944Z"
    }
   },
   "cell_type": "code",
   "source": "title",
   "id": "57e7260ced134c52",
   "outputs": [
    {
     "data": {
      "text/plain": [
       "['LEA', 'Sweater Nails', 'ANOTHER MUSIC VIDEO.']"
      ]
     },
     "execution_count": 32,
     "metadata": {},
     "output_type": "execute_result"
    }
   ],
   "execution_count": 32
  },
  {
   "metadata": {
    "ExecuteTime": {
     "end_time": "2025-03-20T11:54:48.736945Z",
     "start_time": "2025-03-20T11:54:48.728705Z"
    }
   },
   "cell_type": "code",
   "source": "ids",
   "id": "616d7b6a5db78aa9",
   "outputs": [
    {
     "data": {
      "text/plain": [
       "['uTDyJzsJRL4', 'ip5V5KtrA1k', 'bx9IJ3RhiFE']"
      ]
     },
     "execution_count": 35,
     "metadata": {},
     "output_type": "execute_result"
    }
   ],
   "execution_count": 35
  }
 ],
 "metadata": {
  "kernelspec": {
   "display_name": "Python 3",
   "language": "python",
   "name": "python3"
  },
  "language_info": {
   "codemirror_mode": {
    "name": "ipython",
    "version": 2
   },
   "file_extension": ".py",
   "mimetype": "text/x-python",
   "name": "python",
   "nbconvert_exporter": "python",
   "pygments_lexer": "ipython2",
   "version": "2.7.6"
  }
 },
 "nbformat": 4,
 "nbformat_minor": 5
}
